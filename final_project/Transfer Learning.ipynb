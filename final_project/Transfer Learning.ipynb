{
 "cells": [
  {
   "cell_type": "code",
   "execution_count": 36,
   "id": "7994ef53",
   "metadata": {},
   "outputs": [],
   "source": [
    "import numpy as np\n",
    "import pandas as pd\n",
    "from sklearn.preprocessing import MinMaxScaler\n",
    "from tensorflow.keras.models import Sequential\n",
    "from tensorflow.keras.layers import LSTM, Dense\n",
    "from sklearn.model_selection import train_test_split\n",
    "\n",
    "sns.set()"
   ]
  },
  {
   "cell_type": "code",
   "execution_count": 38,
   "id": "bdb5e2c5",
   "metadata": {},
   "outputs": [],
   "source": [
    "def create_sequences(data, seq_length):\n",
    "    sequences = []\n",
    "    targets = []\n",
    "    for i in range(len(data) - seq_length):\n",
    "        seq = data[i:i+seq_length]\n",
    "        label = data[i+seq_length]\n",
    "        sequences.append(seq)\n",
    "        targets.append(label)\n",
    "    return np.array(sequences), np.array(targets)"
   ]
  },
  {
   "cell_type": "code",
   "execution_count": 40,
   "id": "258fce49",
   "metadata": {},
   "outputs": [
    {
     "name": "stdout",
     "output_type": "stream",
     "text": [
      "WARNING:tensorflow:From C:\\Users\\Violet\\anaconda3\\lib\\site-packages\\keras\\src\\optimizers\\__init__.py:309: The name tf.train.Optimizer is deprecated. Please use tf.compat.v1.train.Optimizer instead.\n",
      "\n",
      "Epoch 1/10\n",
      "WARNING:tensorflow:From C:\\Users\\Violet\\anaconda3\\lib\\site-packages\\keras\\src\\utils\\tf_utils.py:492: The name tf.ragged.RaggedTensorValue is deprecated. Please use tf.compat.v1.ragged.RaggedTensorValue instead.\n",
      "\n",
      "94/94 [==============================] - 2s 8ms/step - loss: 0.0745 - val_loss: 0.0569\n",
      "Epoch 2/10\n",
      "94/94 [==============================] - 0s 4ms/step - loss: 0.0592 - val_loss: 0.0515\n",
      "Epoch 3/10\n",
      "94/94 [==============================] - 0s 4ms/step - loss: 0.0560 - val_loss: 0.0510\n",
      "Epoch 4/10\n",
      "94/94 [==============================] - 0s 4ms/step - loss: 0.0555 - val_loss: 0.0510\n",
      "Epoch 5/10\n",
      "94/94 [==============================] - 0s 4ms/step - loss: 0.0555 - val_loss: 0.0510\n",
      "Epoch 6/10\n",
      "94/94 [==============================] - 0s 5ms/step - loss: 0.0554 - val_loss: 0.0511\n",
      "Epoch 7/10\n",
      "94/94 [==============================] - 0s 4ms/step - loss: 0.0554 - val_loss: 0.0510\n",
      "Epoch 8/10\n",
      "94/94 [==============================] - 0s 4ms/step - loss: 0.0554 - val_loss: 0.0511\n",
      "Epoch 9/10\n",
      "94/94 [==============================] - 0s 5ms/step - loss: 0.0554 - val_loss: 0.0510\n",
      "Epoch 10/10\n",
      "94/94 [==============================] - 0s 4ms/step - loss: 0.0554 - val_loss: 0.0511\n",
      "Epoch 1/10\n",
      "94/94 [==============================] - 2s 8ms/step - loss: 0.0825 - val_loss: 0.0605\n",
      "Epoch 2/10\n",
      "94/94 [==============================] - 0s 5ms/step - loss: 0.0635 - val_loss: 0.0540\n",
      "Epoch 3/10\n",
      "94/94 [==============================] - 0s 5ms/step - loss: 0.0596 - val_loss: 0.0533\n",
      "Epoch 4/10\n",
      "94/94 [==============================] - 0s 4ms/step - loss: 0.0590 - val_loss: 0.0533\n",
      "Epoch 5/10\n",
      "94/94 [==============================] - 0s 4ms/step - loss: 0.0589 - val_loss: 0.0533\n",
      "Epoch 6/10\n",
      "94/94 [==============================] - 0s 5ms/step - loss: 0.0589 - val_loss: 0.0533\n",
      "Epoch 7/10\n",
      "94/94 [==============================] - 0s 4ms/step - loss: 0.0588 - val_loss: 0.0533\n",
      "Epoch 8/10\n",
      "94/94 [==============================] - 0s 5ms/step - loss: 0.0588 - val_loss: 0.0531\n",
      "Epoch 9/10\n",
      "94/94 [==============================] - 0s 5ms/step - loss: 0.0588 - val_loss: 0.0531\n",
      "Epoch 10/10\n",
      "94/94 [==============================] - 0s 5ms/step - loss: 0.0587 - val_loss: 0.0532\n",
      "Epoch 1/10\n",
      "59/59 [==============================] - 2s 9ms/step - loss: 0.1218 - val_loss: 0.0968\n",
      "Epoch 2/10\n",
      "59/59 [==============================] - 0s 5ms/step - loss: 0.0871 - val_loss: 0.0716\n",
      "Epoch 3/10\n",
      "59/59 [==============================] - 0s 5ms/step - loss: 0.0672 - val_loss: 0.0582\n",
      "Epoch 4/10\n",
      "59/59 [==============================] - 0s 5ms/step - loss: 0.0569 - val_loss: 0.0519\n",
      "Epoch 5/10\n",
      "59/59 [==============================] - 0s 5ms/step - loss: 0.0520 - val_loss: 0.0491\n",
      "Epoch 6/10\n",
      "59/59 [==============================] - 0s 5ms/step - loss: 0.0500 - val_loss: 0.0482\n",
      "Epoch 7/10\n",
      "59/59 [==============================] - 0s 5ms/step - loss: 0.0493 - val_loss: 0.0479\n",
      "Epoch 8/10\n",
      "59/59 [==============================] - 0s 5ms/step - loss: 0.0491 - val_loss: 0.0479\n",
      "Epoch 9/10\n",
      "59/59 [==============================] - 0s 5ms/step - loss: 0.0490 - val_loss: 0.0478\n",
      "Epoch 10/10\n",
      "59/59 [==============================] - 0s 5ms/step - loss: 0.0490 - val_loss: 0.0479\n",
      "Epoch 1/10\n",
      "94/94 [==============================] - 2s 8ms/step - loss: 0.1217 - val_loss: 0.0846\n",
      "Epoch 2/10\n",
      "94/94 [==============================] - 0s 5ms/step - loss: 0.0751 - val_loss: 0.0600\n",
      "Epoch 3/10\n",
      "94/94 [==============================] - 0s 5ms/step - loss: 0.0588 - val_loss: 0.0532\n",
      "Epoch 4/10\n",
      "94/94 [==============================] - 0s 5ms/step - loss: 0.0544 - val_loss: 0.0520\n",
      "Epoch 5/10\n",
      "94/94 [==============================] - 0s 5ms/step - loss: 0.0535 - val_loss: 0.0520\n",
      "Epoch 6/10\n",
      "94/94 [==============================] - 0s 5ms/step - loss: 0.0534 - val_loss: 0.0520\n",
      "Epoch 7/10\n",
      "94/94 [==============================] - 0s 5ms/step - loss: 0.0534 - val_loss: 0.0520\n",
      "Epoch 8/10\n",
      "94/94 [==============================] - 0s 5ms/step - loss: 0.0534 - val_loss: 0.0520\n",
      "Epoch 9/10\n",
      "94/94 [==============================] - 0s 5ms/step - loss: 0.0533 - val_loss: 0.0519\n",
      "Epoch 10/10\n",
      "94/94 [==============================] - 0s 5ms/step - loss: 0.0533 - val_loss: 0.0519\n"
     ]
    },
    {
     "ename": "KeyError",
     "evalue": "'x_test'",
     "output_type": "error",
     "traceback": [
      "\u001b[1;31m---------------------------------------------------------------------------\u001b[0m",
      "\u001b[1;31mKeyError\u001b[0m                                  Traceback (most recent call last)",
      "\u001b[1;32m~\\AppData\\Local\\Temp\\ipykernel_6512\\1155939021.py\u001b[0m in \u001b[0;36m<module>\u001b[1;34m\u001b[0m\n\u001b[0;32m     33\u001b[0m     \u001b[0mmodels\u001b[0m\u001b[1;33m[\u001b[0m\u001b[0masset\u001b[0m\u001b[1;33m]\u001b[0m \u001b[1;33m=\u001b[0m \u001b[1;33m{\u001b[0m\u001b[1;34m'model'\u001b[0m\u001b[1;33m:\u001b[0m\u001b[0mmodel\u001b[0m\u001b[1;33m,\u001b[0m\u001b[1;34m'scaler'\u001b[0m\u001b[1;33m:\u001b[0m\u001b[0mscaler\u001b[0m\u001b[1;33m}\u001b[0m\u001b[1;33m\u001b[0m\u001b[1;33m\u001b[0m\u001b[0m\n\u001b[0;32m     34\u001b[0m \u001b[1;33m\u001b[0m\u001b[0m\n\u001b[1;32m---> 35\u001b[1;33m \u001b[0mx_test_META\u001b[0m\u001b[1;33m,\u001b[0m \u001b[0my_test_META\u001b[0m \u001b[1;33m=\u001b[0m \u001b[0mmodels\u001b[0m\u001b[1;33m[\u001b[0m\u001b[1;34m'META'\u001b[0m\u001b[1;33m]\u001b[0m\u001b[1;33m[\u001b[0m\u001b[1;34m'x_test'\u001b[0m\u001b[1;33m]\u001b[0m\u001b[1;33m,\u001b[0m\u001b[0mmodels\u001b[0m\u001b[1;33m[\u001b[0m\u001b[1;34m'META'\u001b[0m\u001b[1;33m]\u001b[0m\u001b[1;33m[\u001b[0m\u001b[1;34m'y_test'\u001b[0m\u001b[1;33m]\u001b[0m\u001b[1;33m\u001b[0m\u001b[1;33m\u001b[0m\u001b[0m\n\u001b[0m\u001b[0;32m     36\u001b[0m \u001b[0mpredictions_META\u001b[0m \u001b[1;33m=\u001b[0m \u001b[0mmodels\u001b[0m\u001b[1;33m[\u001b[0m\u001b[1;34m'META'\u001b[0m\u001b[1;33m]\u001b[0m\u001b[1;33m.\u001b[0m\u001b[0mpredict\u001b[0m\u001b[1;33m(\u001b[0m\u001b[0mx_test_META\u001b[0m\u001b[1;33m)\u001b[0m\u001b[1;33m\u001b[0m\u001b[1;33m\u001b[0m\u001b[0m\n\u001b[0;32m     37\u001b[0m \u001b[1;33m\u001b[0m\u001b[0m\n",
      "\u001b[1;31mKeyError\u001b[0m: 'x_test'"
     ]
    }
   ],
   "source": [
    "assets = ['MSFT', 'AAPL', 'META', 'SPY']\n",
    "models = {}\n",
    "seq_len = 10\n",
    "for asset in assets:  \n",
    "    df = pd.read_csv(asset+'.csv')\n",
    "#     if 'GOOG' not in asset:\n",
    "#         df['Date'] = df['Date'].astype(str)\n",
    "#         df['Date'] = pd.to_datetime(df['Date'],format='%m/%d/%Y')\n",
    "#         df['Date'] = df['Date'].dt.strftime('%Y-%m-%d')\n",
    "    #df.set_index('Date',inplace=True)\n",
    "    scaler = MinMaxScaler(feature_range=(0, 1))\n",
    "    df_scaled = scaler.fit_transform(df[['Open', 'High', 'Low', 'Close', 'Adj Close', 'Volume']])\n",
    "    \n",
    "    train_data, test_data = train_test_split(df_scaled, test_size=0.3, shuffle=True, random_state=13)\n",
    "    \n",
    "    # Create sequences for training and testing\n",
    "    x_train, y_train = create_sequences(train_data, seq_len)\n",
    "    x_test, y_test = create_sequences(test_data, seq_len)\n",
    "    \n",
    "    models[asset] = df\n",
    "    model = Sequential()\n",
    "    model.add(LSTM(50, activation='relu', input_shape=(seq_len,6), return_sequences=True))\n",
    "    model.add(LSTM(50, activation='relu'))\n",
    "    model.add(Dense(6))\n",
    "    \n",
    "    for layer in model.layers[:-1]:\n",
    "        layer.trainable = False\n",
    "    \n",
    "    model.compile(optimizer = 'adam', loss = 'mean_squared_error')\n",
    "    \n",
    "    model.fit(x_train,y_train, epochs=10,batch_size=32, validation_data=(x_test, y_test))\n",
    "    \n",
    "    models[asset] = {'model':model,'scaler':scaler}\n",
    "\n",
    "x_test_META, y_test_META = models['META']['x_test'],models['META']['y_test']\n",
    "predictions_META = models['META'].predict(x_test_META)\n",
    "\n",
    "predictions_actual_META = models['META']['scaler'].inverse_transform(predictions_META)"
   ]
  },
  {
   "cell_type": "code",
   "execution_count": 42,
   "id": "ee00b32b",
   "metadata": {},
   "outputs": [
    {
     "name": "stdout",
     "output_type": "stream",
     "text": [
      "{'MSFT': {'model': <keras.src.engine.sequential.Sequential object at 0x0000024BD435F250>, 'scaler': MinMaxScaler()}, 'AAPL': {'model': <keras.src.engine.sequential.Sequential object at 0x0000024BD4ACDB50>, 'scaler': MinMaxScaler()}, 'META': {'model': <keras.src.engine.sequential.Sequential object at 0x0000024BD7911730>, 'scaler': MinMaxScaler()}, 'SPY': {'model': <keras.src.engine.sequential.Sequential object at 0x0000024BDA63F640>, 'scaler': MinMaxScaler()}}\n"
     ]
    }
   ],
   "source": [
    "print(models)"
   ]
  },
  {
   "cell_type": "code",
   "execution_count": 16,
   "id": "16f41261",
   "metadata": {},
   "outputs": [
    {
     "ename": "KeyError",
     "evalue": "\"None of [Index(['MSFT', 'AAPL', 'META'], dtype='object')] are in the [columns]\"",
     "output_type": "error",
     "traceback": [
      "\u001b[1;31m---------------------------------------------------------------------------\u001b[0m",
      "\u001b[1;31mKeyError\u001b[0m                                  Traceback (most recent call last)",
      "\u001b[1;32m~\\AppData\\Local\\Temp\\ipykernel_6512\\3117802049.py\u001b[0m in \u001b[0;36m<module>\u001b[1;34m\u001b[0m\n\u001b[0;32m      2\u001b[0m \u001b[0mtest_assets\u001b[0m \u001b[1;33m=\u001b[0m \u001b[1;33m[\u001b[0m\u001b[1;34m'SPY'\u001b[0m\u001b[1;33m,\u001b[0m\u001b[1;34m'GOOG'\u001b[0m\u001b[1;33m]\u001b[0m\u001b[1;33m\u001b[0m\u001b[1;33m\u001b[0m\u001b[0m\n\u001b[0;32m      3\u001b[0m \u001b[1;33m\u001b[0m\u001b[0m\n\u001b[1;32m----> 4\u001b[1;33m \u001b[0mtrain_data\u001b[0m \u001b[1;33m=\u001b[0m \u001b[0mdf\u001b[0m\u001b[1;33m[\u001b[0m\u001b[0mtrain_assets\u001b[0m\u001b[1;33m]\u001b[0m\u001b[1;33m\u001b[0m\u001b[1;33m\u001b[0m\u001b[0m\n\u001b[0m\u001b[0;32m      5\u001b[0m \u001b[0mtest_data\u001b[0m \u001b[1;33m=\u001b[0m \u001b[0mdf\u001b[0m\u001b[1;33m[\u001b[0m\u001b[0mtest_assets\u001b[0m\u001b[1;33m]\u001b[0m\u001b[1;33m\u001b[0m\u001b[1;33m\u001b[0m\u001b[0m\n\u001b[0;32m      6\u001b[0m \u001b[1;33m\u001b[0m\u001b[0m\n",
      "\u001b[1;32m~\\anaconda3\\lib\\site-packages\\pandas\\core\\frame.py\u001b[0m in \u001b[0;36m__getitem__\u001b[1;34m(self, key)\u001b[0m\n\u001b[0;32m   3509\u001b[0m             \u001b[1;32mif\u001b[0m \u001b[0mis_iterator\u001b[0m\u001b[1;33m(\u001b[0m\u001b[0mkey\u001b[0m\u001b[1;33m)\u001b[0m\u001b[1;33m:\u001b[0m\u001b[1;33m\u001b[0m\u001b[1;33m\u001b[0m\u001b[0m\n\u001b[0;32m   3510\u001b[0m                 \u001b[0mkey\u001b[0m \u001b[1;33m=\u001b[0m \u001b[0mlist\u001b[0m\u001b[1;33m(\u001b[0m\u001b[0mkey\u001b[0m\u001b[1;33m)\u001b[0m\u001b[1;33m\u001b[0m\u001b[1;33m\u001b[0m\u001b[0m\n\u001b[1;32m-> 3511\u001b[1;33m             \u001b[0mindexer\u001b[0m \u001b[1;33m=\u001b[0m \u001b[0mself\u001b[0m\u001b[1;33m.\u001b[0m\u001b[0mcolumns\u001b[0m\u001b[1;33m.\u001b[0m\u001b[0m_get_indexer_strict\u001b[0m\u001b[1;33m(\u001b[0m\u001b[0mkey\u001b[0m\u001b[1;33m,\u001b[0m \u001b[1;34m\"columns\"\u001b[0m\u001b[1;33m)\u001b[0m\u001b[1;33m[\u001b[0m\u001b[1;36m1\u001b[0m\u001b[1;33m]\u001b[0m\u001b[1;33m\u001b[0m\u001b[1;33m\u001b[0m\u001b[0m\n\u001b[0m\u001b[0;32m   3512\u001b[0m \u001b[1;33m\u001b[0m\u001b[0m\n\u001b[0;32m   3513\u001b[0m         \u001b[1;31m# take() does not accept boolean indexers\u001b[0m\u001b[1;33m\u001b[0m\u001b[1;33m\u001b[0m\u001b[0m\n",
      "\u001b[1;32m~\\anaconda3\\lib\\site-packages\\pandas\\core\\indexes\\base.py\u001b[0m in \u001b[0;36m_get_indexer_strict\u001b[1;34m(self, key, axis_name)\u001b[0m\n\u001b[0;32m   5794\u001b[0m             \u001b[0mkeyarr\u001b[0m\u001b[1;33m,\u001b[0m \u001b[0mindexer\u001b[0m\u001b[1;33m,\u001b[0m \u001b[0mnew_indexer\u001b[0m \u001b[1;33m=\u001b[0m \u001b[0mself\u001b[0m\u001b[1;33m.\u001b[0m\u001b[0m_reindex_non_unique\u001b[0m\u001b[1;33m(\u001b[0m\u001b[0mkeyarr\u001b[0m\u001b[1;33m)\u001b[0m\u001b[1;33m\u001b[0m\u001b[1;33m\u001b[0m\u001b[0m\n\u001b[0;32m   5795\u001b[0m \u001b[1;33m\u001b[0m\u001b[0m\n\u001b[1;32m-> 5796\u001b[1;33m         \u001b[0mself\u001b[0m\u001b[1;33m.\u001b[0m\u001b[0m_raise_if_missing\u001b[0m\u001b[1;33m(\u001b[0m\u001b[0mkeyarr\u001b[0m\u001b[1;33m,\u001b[0m \u001b[0mindexer\u001b[0m\u001b[1;33m,\u001b[0m \u001b[0maxis_name\u001b[0m\u001b[1;33m)\u001b[0m\u001b[1;33m\u001b[0m\u001b[1;33m\u001b[0m\u001b[0m\n\u001b[0m\u001b[0;32m   5797\u001b[0m \u001b[1;33m\u001b[0m\u001b[0m\n\u001b[0;32m   5798\u001b[0m         \u001b[0mkeyarr\u001b[0m \u001b[1;33m=\u001b[0m \u001b[0mself\u001b[0m\u001b[1;33m.\u001b[0m\u001b[0mtake\u001b[0m\u001b[1;33m(\u001b[0m\u001b[0mindexer\u001b[0m\u001b[1;33m)\u001b[0m\u001b[1;33m\u001b[0m\u001b[1;33m\u001b[0m\u001b[0m\n",
      "\u001b[1;32m~\\anaconda3\\lib\\site-packages\\pandas\\core\\indexes\\base.py\u001b[0m in \u001b[0;36m_raise_if_missing\u001b[1;34m(self, key, indexer, axis_name)\u001b[0m\n\u001b[0;32m   5854\u001b[0m                 \u001b[1;32mif\u001b[0m \u001b[0muse_interval_msg\u001b[0m\u001b[1;33m:\u001b[0m\u001b[1;33m\u001b[0m\u001b[1;33m\u001b[0m\u001b[0m\n\u001b[0;32m   5855\u001b[0m                     \u001b[0mkey\u001b[0m \u001b[1;33m=\u001b[0m \u001b[0mlist\u001b[0m\u001b[1;33m(\u001b[0m\u001b[0mkey\u001b[0m\u001b[1;33m)\u001b[0m\u001b[1;33m\u001b[0m\u001b[1;33m\u001b[0m\u001b[0m\n\u001b[1;32m-> 5856\u001b[1;33m                 \u001b[1;32mraise\u001b[0m \u001b[0mKeyError\u001b[0m\u001b[1;33m(\u001b[0m\u001b[1;34mf\"None of [{key}] are in the [{axis_name}]\"\u001b[0m\u001b[1;33m)\u001b[0m\u001b[1;33m\u001b[0m\u001b[1;33m\u001b[0m\u001b[0m\n\u001b[0m\u001b[0;32m   5857\u001b[0m \u001b[1;33m\u001b[0m\u001b[0m\n\u001b[0;32m   5858\u001b[0m             \u001b[0mnot_found\u001b[0m \u001b[1;33m=\u001b[0m \u001b[0mlist\u001b[0m\u001b[1;33m(\u001b[0m\u001b[0mensure_index\u001b[0m\u001b[1;33m(\u001b[0m\u001b[0mkey\u001b[0m\u001b[1;33m)\u001b[0m\u001b[1;33m[\u001b[0m\u001b[0mmissing_mask\u001b[0m\u001b[1;33m.\u001b[0m\u001b[0mnonzero\u001b[0m\u001b[1;33m(\u001b[0m\u001b[1;33m)\u001b[0m\u001b[1;33m[\u001b[0m\u001b[1;36m0\u001b[0m\u001b[1;33m]\u001b[0m\u001b[1;33m]\u001b[0m\u001b[1;33m.\u001b[0m\u001b[0munique\u001b[0m\u001b[1;33m(\u001b[0m\u001b[1;33m)\u001b[0m\u001b[1;33m)\u001b[0m\u001b[1;33m\u001b[0m\u001b[1;33m\u001b[0m\u001b[0m\n",
      "\u001b[1;31mKeyError\u001b[0m: \"None of [Index(['MSFT', 'AAPL', 'META'], dtype='object')] are in the [columns]\""
     ]
    }
   ],
   "source": [
    "train_assets = ['MSFT','AAPL','META']\n",
    "test_assets = ['SPY','GOOG']\n",
    "\n",
    "train_data = df[train_assets]\n",
    "test_data = df[test_assets]\n",
    "\n",
    "scaler = MinMaxScaler(feature_range=(0,1))\n",
    "train_scaled = scaler.fit_transform(train_data)\n",
    "test_scaled = scaler.transform(test_data)"
   ]
  },
  {
   "cell_type": "code",
   "execution_count": null,
   "id": "bf720456",
   "metadata": {},
   "outputs": [],
   "source": []
  }
 ],
 "metadata": {
  "kernelspec": {
   "display_name": "Python 3 (ipykernel)",
   "language": "python",
   "name": "python3"
  },
  "language_info": {
   "codemirror_mode": {
    "name": "ipython",
    "version": 3
   },
   "file_extension": ".py",
   "mimetype": "text/x-python",
   "name": "python",
   "nbconvert_exporter": "python",
   "pygments_lexer": "ipython3",
   "version": "3.9.13"
  }
 },
 "nbformat": 4,
 "nbformat_minor": 5
}
